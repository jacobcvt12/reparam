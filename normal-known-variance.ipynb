{
 "cells": [
  {
   "cell_type": "code",
   "execution_count": 59,
   "metadata": {},
   "outputs": [],
   "source": [
    "using Distributions\n",
    "using ForwardDiff\n",
    "using StatsFuns"
   ]
  },
  {
   "cell_type": "code",
   "execution_count": 60,
   "metadata": {},
   "outputs": [
    {
     "data": {
      "text/plain": [
       "Distributions.Normal{Float64}(μ=0.0, σ=1.0)"
      ]
     },
     "execution_count": 60,
     "metadata": {},
     "output_type": "execute_result"
    }
   ],
   "source": [
    "# generate date\n",
    "n = 100\n",
    "μ_true = 0.4\n",
    "σ_true = 0.2\n",
    "X = rand(Normal(μ_true, σ_true), n)\n",
    "\n",
    "prior = Normal(0, 1)"
   ]
  },
  {
   "cell_type": "code",
   "execution_count": 61,
   "metadata": {},
   "outputs": [
    {
     "data": {
      "text/plain": [
       "ℒ (generic function with 1 method)"
      ]
     },
     "execution_count": 61,
     "metadata": {},
     "output_type": "execute_result"
    }
   ],
   "source": [
    "function ℒ(X, prior, ϕ, L)\n",
    "    ϵ = rand(Normal(), L)\n",
    "    z = ϕ[1] + softplus(ϕ[2]) * ϵ\n",
    "    \n",
    "    log_prior = logpdf(prior, z)\n",
    "    log_lik = map(param -> loglikelihood(Normal(param, σ_true), X), z)\n",
    "    log_joint = log_prior + log_lik\n",
    "    \n",
    "    entropy = logpdf(Normal(ϕ[1], softplus(ϕ[2])), z)\n",
    "    \n",
    "    return mean(log_joint - entropy)\n",
    "end"
   ]
  },
  {
   "cell_type": "code",
   "execution_count": 68,
   "metadata": {},
   "outputs": [
    {
     "name": "stdout",
     "output_type": "stream",
     "text": [
      "[0.411357, 0.0282846]\n"
     ]
    }
   ],
   "source": [
    "# gradient descent parameters\n",
    "ϵ = 1e-8\n",
    "G_t = zeros(2)\n",
    "η = 1.0\n",
    "\n",
    "# number of epochs\n",
    "epochs = 100\n",
    "\n",
    "# initialize ϕ\n",
    "ϕ = rand(Normal(), 2)\n",
    "ϕ[2] = softplus(ϕ[2])\n",
    "\n",
    "# number of monte carlo simulations per epoch\n",
    "L = 10\n",
    "\n",
    "for i in 1:epochs\n",
    "    g = ForwardDiff.gradient(γ -> ℒ(X, prior, γ, L), ϕ)\n",
    "    G_t += (g .^ 2)\n",
    "    δ = (η ./ sqrt.(G_t + ϵ)) .* g\n",
    "    ϕ += δ\n",
    "end\n",
    "\n",
    "println([ϕ[1], softplus(ϕ[2])])"
   ]
  },
  {
   "cell_type": "code",
   "execution_count": 63,
   "metadata": {},
   "outputs": [
    {
     "name": "stdout",
     "output_type": "stream",
     "text": [
      "[0.418692, 0.019996]\n"
     ]
    }
   ],
   "source": [
    "μ₀ = params(prior)[1]\n",
    "σ₀² = params(prior)[2]^2\n",
    "\n",
    "post_var = 1 / (1 / σ₀² + n / (σ_true^2))\n",
    "post_mean = (μ₀ / σ₀² + sum(X) / (σ_true^2)) * post_var\n",
    "ϕ = [post_mean, sqrt(post_var)]\n",
    "\n",
    "println(ϕ)"
   ]
  },
  {
   "cell_type": "code",
   "execution_count": 56,
   "metadata": {},
   "outputs": [
    {
     "data": {
      "text/plain": [
       "0.06977082502055569"
      ]
     },
     "execution_count": 56,
     "metadata": {},
     "output_type": "execute_result"
    }
   ],
   "source": [
    "softplus(ϕ[2])"
   ]
  },
  {
   "cell_type": "code",
   "execution_count": 58,
   "metadata": {},
   "outputs": [
    {
     "name": "stdout",
     "output_type": "stream",
     "text": [
      "0.3987794344143785\n",
      "3.9998400063997445e-5\n"
     ]
    }
   ],
   "source": [
    "μ₀ = params(prior)[1]\n",
    "σ₀² = params(prior)[2]^2\n",
    "\n",
    "post_var = 1 / (1 / σ₀² + n / (σ_true^2))\n",
    "post_mean = (μ₀ / σ₀² + sum(X) / (σ_true^2)) * post_var\n",
    "println(post_mean)\n",
    "println(post_var)"
   ]
  },
  {
   "cell_type": "code",
   "execution_count": 47,
   "metadata": {},
   "outputs": [
    {
     "data": {
      "text/plain": [
       "2-element Array{Float64,1}:\n",
       " 5.59367e-7\n",
       " 3.51887e-7"
      ]
     },
     "execution_count": 47,
     "metadata": {},
     "output_type": "execute_result"
    }
   ],
   "source": [
    "η ./ sqrt.(G_t + ϵ)"
   ]
  },
  {
   "cell_type": "code",
   "execution_count": 24,
   "metadata": {},
   "outputs": [
    {
     "data": {
      "text/plain": [
       "232.10289437160029"
      ]
     },
     "execution_count": 24,
     "metadata": {},
     "output_type": "execute_result"
    }
   ],
   "source": [
    "loglikelihood(Normal(z[2], σ_true), X)"
   ]
  },
  {
   "cell_type": "code",
   "execution_count": 43,
   "metadata": {},
   "outputs": [
    {
     "data": {
      "text/plain": [
       "2-element Array{Float64,1}:\n",
       " 0.39781   \n",
       " 0.00605403"
      ]
     },
     "execution_count": 43,
     "metadata": {},
     "output_type": "execute_result"
    }
   ],
   "source": [
    "ϕ"
   ]
  },
  {
   "cell_type": "code",
   "execution_count": null,
   "metadata": {
    "collapsed": true
   },
   "outputs": [],
   "source": []
  }
 ],
 "metadata": {
  "kernelspec": {
   "display_name": "Julia 0.6.0",
   "language": "julia",
   "name": "julia-0.6"
  },
  "language_info": {
   "file_extension": ".jl",
   "mimetype": "application/julia",
   "name": "julia",
   "version": "0.6.0"
  }
 },
 "nbformat": 4,
 "nbformat_minor": 2
}
